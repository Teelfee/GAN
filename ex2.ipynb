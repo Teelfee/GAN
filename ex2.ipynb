{
  "nbformat": 4,
  "nbformat_minor": 0,
  "metadata": {
    "colab": {
      "name": "ex2.ipynb",
      "version": "0.3.2",
      "provenance": [],
      "collapsed_sections": [],
      "include_colab_link": true
    },
    "kernelspec": {
      "name": "python3",
      "display_name": "Python 3"
    },
    "accelerator": "GPU"
  },
  "cells": [
    {
      "cell_type": "markdown",
      "metadata": {
        "id": "view-in-github",
        "colab_type": "text"
      },
      "source": [
        "<a href=\"https://colab.research.google.com/github/Teelfee/GT-and-ML-exploration/blob/development/ex2.ipynb\" target=\"_parent\"><img src=\"https://colab.research.google.com/assets/colab-badge.svg\" alt=\"Open In Colab\"/></a>"
      ]
    },
    {
      "metadata": {
        "id": "EoUxwYekKUBA",
        "colab_type": "code",
        "colab": {}
      },
      "cell_type": "code",
      "source": [
        "%matplotlib inline\n",
        "\n",
        "import numpy as np\n",
        "import pandas as pd\n",
        "import matplotlib.pyplot as plt\n"
      ],
      "execution_count": 0,
      "outputs": []
    },
    {
      "metadata": {
        "id": "iDJfZGsLFqK9",
        "colab_type": "code",
        "outputId": "83aa0ff6-514a-49fe-f353-9c1ae42adee5",
        "colab": {
          "base_uri": "https://localhost:8080/"
        }
      },
      "cell_type": "code",
      "source": [
        "!ls"
      ],
      "execution_count": 0,
      "outputs": [
        {
          "output_type": "stream",
          "text": [
            "ex2data1.txt  ex2data2.txt  sample_data\n"
          ],
          "name": "stdout"
        }
      ]
    },
    {
      "metadata": {
        "id": "ipBNfQbEE8dY",
        "colab_type": "code",
        "outputId": "c6ce09ff-8339-42b8-d92d-ade0a25af44e",
        "colab": {
          "base_uri": "https://localhost:8080/",
          "height": 198
        }
      },
      "cell_type": "code",
      "source": [
        "data = pd.read_csv('ex2data1.txt', names=['exam1', 'exam2', 'admitted'])\n",
        "data.head()"
      ],
      "execution_count": 0,
      "outputs": [
        {
          "output_type": "execute_result",
          "data": {
            "text/html": [
              "<div>\n",
              "<style scoped>\n",
              "    .dataframe tbody tr th:only-of-type {\n",
              "        vertical-align: middle;\n",
              "    }\n",
              "\n",
              "    .dataframe tbody tr th {\n",
              "        vertical-align: top;\n",
              "    }\n",
              "\n",
              "    .dataframe thead th {\n",
              "        text-align: right;\n",
              "    }\n",
              "</style>\n",
              "<table border=\"1\" class=\"dataframe\">\n",
              "  <thead>\n",
              "    <tr style=\"text-align: right;\">\n",
              "      <th></th>\n",
              "      <th>exam1</th>\n",
              "      <th>exam2</th>\n",
              "      <th>admitted</th>\n",
              "    </tr>\n",
              "  </thead>\n",
              "  <tbody>\n",
              "    <tr>\n",
              "      <th>0</th>\n",
              "      <td>34.623660</td>\n",
              "      <td>78.024693</td>\n",
              "      <td>0</td>\n",
              "    </tr>\n",
              "    <tr>\n",
              "      <th>1</th>\n",
              "      <td>30.286711</td>\n",
              "      <td>43.894998</td>\n",
              "      <td>0</td>\n",
              "    </tr>\n",
              "    <tr>\n",
              "      <th>2</th>\n",
              "      <td>35.847409</td>\n",
              "      <td>72.902198</td>\n",
              "      <td>0</td>\n",
              "    </tr>\n",
              "    <tr>\n",
              "      <th>3</th>\n",
              "      <td>60.182599</td>\n",
              "      <td>86.308552</td>\n",
              "      <td>1</td>\n",
              "    </tr>\n",
              "    <tr>\n",
              "      <th>4</th>\n",
              "      <td>79.032736</td>\n",
              "      <td>75.344376</td>\n",
              "      <td>1</td>\n",
              "    </tr>\n",
              "  </tbody>\n",
              "</table>\n",
              "</div>"
            ],
            "text/plain": [
              "       exam1      exam2  admitted\n",
              "0  34.623660  78.024693         0\n",
              "1  30.286711  43.894998         0\n",
              "2  35.847409  72.902198         0\n",
              "3  60.182599  86.308552         1\n",
              "4  79.032736  75.344376         1"
            ]
          },
          "metadata": {
            "tags": []
          },
          "execution_count": 41
        }
      ]
    },
    {
      "metadata": {
        "id": "9vTj0soaFHf-",
        "colab_type": "code",
        "outputId": "7edf02d5-c2b0-43a5-f7ea-873533d609c8",
        "colab": {
          "base_uri": "https://localhost:8080/",
          "height": 288
        }
      },
      "cell_type": "code",
      "source": [
        "data.describe()"
      ],
      "execution_count": 0,
      "outputs": [
        {
          "output_type": "execute_result",
          "data": {
            "text/html": [
              "<div>\n",
              "<style scoped>\n",
              "    .dataframe tbody tr th:only-of-type {\n",
              "        vertical-align: middle;\n",
              "    }\n",
              "\n",
              "    .dataframe tbody tr th {\n",
              "        vertical-align: top;\n",
              "    }\n",
              "\n",
              "    .dataframe thead th {\n",
              "        text-align: right;\n",
              "    }\n",
              "</style>\n",
              "<table border=\"1\" class=\"dataframe\">\n",
              "  <thead>\n",
              "    <tr style=\"text-align: right;\">\n",
              "      <th></th>\n",
              "      <th>exam1</th>\n",
              "      <th>exam2</th>\n",
              "      <th>admitted</th>\n",
              "    </tr>\n",
              "  </thead>\n",
              "  <tbody>\n",
              "    <tr>\n",
              "      <th>count</th>\n",
              "      <td>100.000000</td>\n",
              "      <td>100.000000</td>\n",
              "      <td>100.000000</td>\n",
              "    </tr>\n",
              "    <tr>\n",
              "      <th>mean</th>\n",
              "      <td>65.644274</td>\n",
              "      <td>66.221998</td>\n",
              "      <td>0.600000</td>\n",
              "    </tr>\n",
              "    <tr>\n",
              "      <th>std</th>\n",
              "      <td>19.458222</td>\n",
              "      <td>18.582783</td>\n",
              "      <td>0.492366</td>\n",
              "    </tr>\n",
              "    <tr>\n",
              "      <th>min</th>\n",
              "      <td>30.058822</td>\n",
              "      <td>30.603263</td>\n",
              "      <td>0.000000</td>\n",
              "    </tr>\n",
              "    <tr>\n",
              "      <th>25%</th>\n",
              "      <td>50.919511</td>\n",
              "      <td>48.179205</td>\n",
              "      <td>0.000000</td>\n",
              "    </tr>\n",
              "    <tr>\n",
              "      <th>50%</th>\n",
              "      <td>67.032988</td>\n",
              "      <td>67.682381</td>\n",
              "      <td>1.000000</td>\n",
              "    </tr>\n",
              "    <tr>\n",
              "      <th>75%</th>\n",
              "      <td>80.212529</td>\n",
              "      <td>79.360605</td>\n",
              "      <td>1.000000</td>\n",
              "    </tr>\n",
              "    <tr>\n",
              "      <th>max</th>\n",
              "      <td>99.827858</td>\n",
              "      <td>98.869436</td>\n",
              "      <td>1.000000</td>\n",
              "    </tr>\n",
              "  </tbody>\n",
              "</table>\n",
              "</div>"
            ],
            "text/plain": [
              "            exam1       exam2    admitted\n",
              "count  100.000000  100.000000  100.000000\n",
              "mean    65.644274   66.221998    0.600000\n",
              "std     19.458222   18.582783    0.492366\n",
              "min     30.058822   30.603263    0.000000\n",
              "25%     50.919511   48.179205    0.000000\n",
              "50%     67.032988   67.682381    1.000000\n",
              "75%     80.212529   79.360605    1.000000\n",
              "max     99.827858   98.869436    1.000000"
            ]
          },
          "metadata": {
            "tags": []
          },
          "execution_count": 42
        }
      ]
    },
    {
      "metadata": {
        "id": "NzDSB6LVHRHe",
        "colab_type": "code",
        "outputId": "c954947c-cf28-4219-f670-973042d7ace4",
        "colab": {
          "base_uri": "https://localhost:8080/",
          "height": 315
        }
      },
      "cell_type": "code",
      "source": [
        "positive = data[data.admitted.isin(['1'])]  # 1\n",
        "negetive = data[data.admitted.isin(['0'])]  # 0\n",
        "\n",
        "fig, ax = plt.subplots(figsize=(6,5))\n",
        "ax.scatter(positive['exam1'], positive['exam2'], c='b', label='Admitted')\n",
        "ax.scatter(negetive['exam1'], negetive['exam2'], s=50, c='r', marker='x', label='Not Admitted')\n",
        "\n",
        "\n",
        "# 设置图例显示在图的上方\n",
        "box = ax.get_position()\n",
        "ax.set_position([box.x0, box.y0, box.width , box.height* 0.8])\n",
        "ax.legend(loc='center left', bbox_to_anchor=(0.2, 1.12),ncol=3)\n",
        "\n",
        "# 设置横纵坐标名\n",
        "ax.set_xlabel('Exam 1 Score')\n",
        "ax.set_ylabel('Exam 2 Score')\n",
        "plt.show()\n"
      ],
      "execution_count": 0,
      "outputs": [
        {
          "output_type": "display_data",
          "data": {
            "image/png": "[encoded data removed]",
            "text/plain": [
              "<matplotlib.figure.Figure at 0x7f1efd130400>"
            ]
          },
          "metadata": {
            "tags": []
          }
        }
      ]
    },
    {
      "metadata": {
        "id": "hR5dSQFAHpxT",
        "colab_type": "code",
        "colab": {}
      },
      "cell_type": "code",
      "source": [
        "def sigmoid(z):\n",
        "    return 1 / (1 + np.exp(- z))"
      ],
      "execution_count": 0,
      "outputs": []
    },
    {
      "metadata": {
        "id": "_O8GlJYnI7VI",
        "colab_type": "code",
        "outputId": "61af08c2-0a04-4b6e-b584-0ca70adacee6",
        "colab": {
          "base_uri": "https://localhost:8080/",
          "height": 265
        }
      },
      "cell_type": "code",
      "source": [
        "x1 = np.arange(-10, 10, 0.1)\n",
        "plt.plot(x1, sigmoid(x1), c='r')\n",
        "plt.show()"
      ],
      "execution_count": 0,
      "outputs": [
        {
          "output_type": "display_data",
          "data": {
            "image/png": "[encoded data removed]",
            "text/plain": [
              "<matplotlib.figure.Figure at 0x7f1ef76c2860>"
            ]
          },
          "metadata": {
            "tags": []
          }
        }
      ]
    },
    {
      "metadata": {
        "id": "rr27bJJHJkwN",
        "colab_type": "code",
        "colab": {}
      },
      "cell_type": "code",
      "source": [
        "def cost(theta, X, y):\n",
        "    first = (-y) * np.log(sigmoid(X @ theta))\n",
        "    second = (1 - y)*np.log(1 - sigmoid(X @ theta))\n",
        "    return np.mean(first - second)\n"
      ],
      "execution_count": 0,
      "outputs": []
    },
    {
      "metadata": {
        "id": "ifeq94jBKmMJ",
        "colab_type": "code",
        "colab": {}
      },
      "cell_type": "code",
      "source": [
        "# add a ones column - this makes the matrix multiplication work out easier\n",
        "if 'Ones' not in data.columns:\n",
        "    data.insert(0, 'Ones', 1)\n",
        "\n",
        "# set X (training data) and y (target variable)\n",
        "X = data.iloc[:, :-1].as_matrix()  # Convert the frame to its Numpy-array representation.\n",
        "y = data.iloc[:, -1].as_matrix()  # Return is NOT a Numpy-matrix, rather, a Numpy-array.\n",
        "\n",
        "theta = np.zeros(X.shape[1])\n",
        "\n",
        "# theta.reshape(3,1)\n"
      ],
      "execution_count": 0,
      "outputs": []
    },
    {
      "metadata": {
        "id": "K_cJypJOKmO0",
        "colab_type": "code",
        "outputId": "6552b86e-defe-495c-8c43-1dc3f1c0ea8d",
        "colab": {
          "base_uri": "https://localhost:8080/",
          "height": 35
        }
      },
      "cell_type": "code",
      "source": [
        "\n",
        "\n",
        "# y=y.reshape(100,1)\n",
        "\n",
        "X.shape, theta.shape, y.shape, data.shape\n",
        "# ((100, 3), (3,), (100,))"
      ],
      "execution_count": 0,
      "outputs": [
        {
          "output_type": "execute_result",
          "data": {
            "text/plain": [
              "((100, 3), (3,), (100,), (100, 4))"
            ]
          },
          "metadata": {
            "tags": []
          },
          "execution_count": 48
        }
      ]
    },
    {
      "metadata": {
        "id": "FV5tKe0cKmRv",
        "colab_type": "code",
        "outputId": "a182a51d-b7eb-47ac-f3a9-468ac56d0a12",
        "colab": {
          "base_uri": "https://localhost:8080/",
          "height": 35
        }
      },
      "cell_type": "code",
      "source": [
        "cost(theta, X, y)"
      ],
      "execution_count": 0,
      "outputs": [
        {
          "output_type": "execute_result",
          "data": {
            "text/plain": [
              "0.6931471805599453"
            ]
          },
          "metadata": {
            "tags": []
          },
          "execution_count": 49
        }
      ]
    },
    {
      "metadata": {
        "id": "VDM7m7mLKmUY",
        "colab_type": "code",
        "colab": {}
      },
      "cell_type": "code",
      "source": [
        "def gradient(theta, X, y):\n",
        "    return (X.T @ (sigmoid(X @ theta) - y))/len(X)  \n",
        "# the gradient of the cost is a vector of the same length as θ where the jth element (for j = 0, 1, . . . , n)"
      ],
      "execution_count": 0,
      "outputs": []
    },
    {
      "metadata": {
        "id": "ovG6S5gSPYc9",
        "colab_type": "code",
        "colab": {}
      },
      "cell_type": "code",
      "source": [
        "r=gradient(theta, X, y)\n",
        "# array([ -0.1, -12.00921659, -11.26284221])"
      ],
      "execution_count": 0,
      "outputs": []
    },
    {
      "metadata": {
        "id": "9Jn2W2eeQT2O",
        "colab_type": "code",
        "outputId": "405acff5-0b0e-467a-acec-3b6d319c2d57",
        "colab": {
          "base_uri": "https://localhost:8080/",
          "height": 35
        }
      },
      "cell_type": "code",
      "source": [
        "r.shape"
      ],
      "execution_count": 0,
      "outputs": [
        {
          "output_type": "execute_result",
          "data": {
            "text/plain": [
              "(3,)"
            ]
          },
          "metadata": {
            "tags": []
          },
          "execution_count": 52
        }
      ]
    },
    {
      "metadata": {
        "id": "OuIz3vOSRVgk",
        "colab_type": "code",
        "colab": {}
      },
      "cell_type": "code",
      "source": [
        "import scipy.optimize as opt"
      ],
      "execution_count": 0,
      "outputs": []
    },
    {
      "metadata": {
        "id": "RQOF4_TVRYBA",
        "colab_type": "code",
        "outputId": "584c20a4-7ebd-4906-bcf3-a59398a141ab",
        "colab": {
          "base_uri": "https://localhost:8080/",
          "height": 155
        }
      },
      "cell_type": "code",
      "source": [
        "res = opt.minimize(fun=cost, x0=theta, args=(X, y), method='TNC', jac=gradient)\n",
        "res\n",
        "# help(opt.minimize) \n",
        "# res.x  # final_theta"
      ],
      "execution_count": 0,
      "outputs": [
        {
          "output_type": "execute_result",
          "data": {
            "text/plain": [
              "     fun: 0.20349770158947394\n",
              "     jac: array([9.04290379e-09, 9.02615302e-08, 4.84927098e-07])\n",
              " message: 'Local minimum reached (|pg| ~= 0)'\n",
              "    nfev: 36\n",
              "     nit: 17\n",
              "  status: 0\n",
              " success: True\n",
              "       x: array([-25.16131878,   0.20623159,   0.20147149])"
            ]
          },
          "metadata": {
            "tags": []
          },
          "execution_count": 54
        }
      ]
    },
    {
      "metadata": {
        "id": "krBrEIDoRYhW",
        "colab_type": "code",
        "outputId": "007c564b-e222-439c-b606-3918fdc9e02a",
        "colab": {
          "base_uri": "https://localhost:8080/",
          "height": 35
        }
      },
      "cell_type": "code",
      "source": [
        "cost(res.x, X, y)"
      ],
      "execution_count": 0,
      "outputs": [
        {
          "output_type": "execute_result",
          "data": {
            "text/plain": [
              "0.20349770158947394"
            ]
          },
          "metadata": {
            "tags": []
          },
          "execution_count": 55
        }
      ]
    },
    {
      "metadata": {
        "id": "QyrYkxjPRYj8",
        "colab_type": "code",
        "colab": {}
      },
      "cell_type": "code",
      "source": [
        "def predict(theta, X):\n",
        "    probability = sigmoid(X@theta)\n",
        "    return [1 if x >= 0.5 else 0 for x in probability]  # return a list"
      ],
      "execution_count": 0,
      "outputs": []
    },
    {
      "metadata": {
        "id": "E83aq3s4RYm0",
        "colab_type": "code",
        "outputId": "0a4876d1-cb35-4fbd-bbc7-e82196837354",
        "colab": {
          "base_uri": "https://localhost:8080/",
          "height": 35
        }
      },
      "cell_type": "code",
      "source": [
        "final_theta =res.x\n",
        "predictions = predict(final_theta, X)\n",
        "correct = [1 if a==b else 0 for (a, b) in zip(predictions, y)]\n",
        "accuracy = sum(correct) / len(X)\n",
        "accuracy\n"
      ],
      "execution_count": 0,
      "outputs": [
        {
          "output_type": "execute_result",
          "data": {
            "text/plain": [
              "0.89"
            ]
          },
          "metadata": {
            "tags": []
          },
          "execution_count": 57
        }
      ]
    },
    {
      "metadata": {
        "id": "nAhpvSjlRYpq",
        "colab_type": "code",
        "outputId": "4a4683a2-c71f-4a0e-d1c3-074f76a04a82",
        "colab": {
          "base_uri": "https://localhost:8080/",
          "height": 138
        }
      },
      "cell_type": "code",
      "source": [
        "from sklearn.metrics import classification_report\n",
        "print(classification_report(predictions, y))"
      ],
      "execution_count": 0,
      "outputs": [
        {
          "output_type": "stream",
          "text": [
            "             precision    recall  f1-score   support\n",
            "\n",
            "          0       0.85      0.87      0.86        39\n",
            "          1       0.92      0.90      0.91        61\n",
            "\n",
            "avg / total       0.89      0.89      0.89       100\n",
            "\n"
          ],
          "name": "stdout"
        }
      ]
    },
    {
      "metadata": {
        "id": "59XYf6IWRYsf",
        "colab_type": "code",
        "colab": {}
      },
      "cell_type": "code",
      "source": [
        "x1 = np.arange(130, step=0.1)\n",
        "x2 = -(final_theta[0] + x1*final_theta[1]) / final_theta[2]"
      ],
      "execution_count": 0,
      "outputs": []
    },
    {
      "metadata": {
        "id": "5KHeNG1cTkxK",
        "colab_type": "code",
        "outputId": "57e06bbf-4a1b-4180-c128-b9d132feb990",
        "colab": {
          "base_uri": "https://localhost:8080/",
          "height": 349
        }
      },
      "cell_type": "code",
      "source": [
        "fig, ax = plt.subplots(figsize=(8,5))\n",
        "ax.scatter(positive['exam1'], positive['exam2'], c='b', label='Admitted')\n",
        "ax.scatter(negetive['exam1'], negetive['exam2'], s=50, c='r', marker='x', label='Not Admitted')\n",
        "ax.plot(x1, x2)\n",
        "ax.set_xlim(0, 130)\n",
        "ax.set_ylim(0, 130)\n",
        "ax.set_xlabel('x1')\n",
        "ax.set_ylabel('x2')\n",
        "ax.set_title('Decision Boundary')\n",
        "plt.show()\n"
      ],
      "execution_count": 0,
      "outputs": [
        {
          "output_type": "display_data",
          "data": {
            "image/png": "[encoded data removed]",
            "text/plain": [
              "<matplotlib.figure.Figure at 0x7f1ef9738898>"
            ]
          },
          "metadata": {
            "tags": []
          }
        }
      ]
    },
    {
      "metadata": {
        "id": "3kBzpo14Tl6X",
        "colab_type": "code",
        "outputId": "70930d19-70a9-420b-e157-b015ec637fb6",
        "colab": {
          "base_uri": "https://localhost:8080/",
          "height": 198
        }
      },
      "cell_type": "code",
      "source": [
        "data2 = pd.read_csv('ex2data2.txt', names=['Test 1', 'Test 2', 'Accepted'])\n",
        "data2.head()"
      ],
      "execution_count": 0,
      "outputs": [
        {
          "output_type": "execute_result",
          "data": {
            "text/html": [
              "<div>\n",
              "<style scoped>\n",
              "    .dataframe tbody tr th:only-of-type {\n",
              "        vertical-align: middle;\n",
              "    }\n",
              "\n",
              "    .dataframe tbody tr th {\n",
              "        vertical-align: top;\n",
              "    }\n",
              "\n",
              "    .dataframe thead th {\n",
              "        text-align: right;\n",
              "    }\n",
              "</style>\n",
              "<table border=\"1\" class=\"dataframe\">\n",
              "  <thead>\n",
              "    <tr style=\"text-align: right;\">\n",
              "      <th></th>\n",
              "      <th>Test 1</th>\n",
              "      <th>Test 2</th>\n",
              "      <th>Accepted</th>\n",
              "    </tr>\n",
              "  </thead>\n",
              "  <tbody>\n",
              "    <tr>\n",
              "      <th>0</th>\n",
              "      <td>0.051267</td>\n",
              "      <td>0.69956</td>\n",
              "      <td>1</td>\n",
              "    </tr>\n",
              "    <tr>\n",
              "      <th>1</th>\n",
              "      <td>-0.092742</td>\n",
              "      <td>0.68494</td>\n",
              "      <td>1</td>\n",
              "    </tr>\n",
              "    <tr>\n",
              "      <th>2</th>\n",
              "      <td>-0.213710</td>\n",
              "      <td>0.69225</td>\n",
              "      <td>1</td>\n",
              "    </tr>\n",
              "    <tr>\n",
              "      <th>3</th>\n",
              "      <td>-0.375000</td>\n",
              "      <td>0.50219</td>\n",
              "      <td>1</td>\n",
              "    </tr>\n",
              "    <tr>\n",
              "      <th>4</th>\n",
              "      <td>-0.513250</td>\n",
              "      <td>0.46564</td>\n",
              "      <td>1</td>\n",
              "    </tr>\n",
              "  </tbody>\n",
              "</table>\n",
              "</div>"
            ],
            "text/plain": [
              "     Test 1   Test 2  Accepted\n",
              "0  0.051267  0.69956         1\n",
              "1 -0.092742  0.68494         1\n",
              "2 -0.213710  0.69225         1\n",
              "3 -0.375000  0.50219         1\n",
              "4 -0.513250  0.46564         1"
            ]
          },
          "metadata": {
            "tags": []
          },
          "execution_count": 61
        }
      ]
    },
    {
      "metadata": {
        "id": "Qo-1yhWBTqLA",
        "colab_type": "code",
        "outputId": "73988d8e-fa74-4690-c373-7417ef6f0380",
        "colab": {
          "base_uri": "https://localhost:8080/",
          "height": 335
        }
      },
      "cell_type": "code",
      "source": [
        "def plot_data():\n",
        "    positive = data2[data2['Accepted'].isin([1])]\n",
        "    negative = data2[data2['Accepted'].isin([0])]\n",
        "\n",
        "    fig, ax = plt.subplots(figsize=(8,5))\n",
        "    ax.scatter(positive['Test 1'], positive['Test 2'], s=50, c='b', marker='o', label='Accepted')\n",
        "    ax.scatter(negative['Test 1'], negative['Test 2'], s=50, c='r', marker='x', label='Rejected')\n",
        "    ax.legend()\n",
        "    ax.set_xlabel('Test 1 Score')\n",
        "    ax.set_ylabel('Test 2 Score')\n",
        "    \n",
        "plot_data()\t\n"
      ],
      "execution_count": 0,
      "outputs": [
        {
          "output_type": "display_data",
          "data": {
            "image/png": "[encoded data removed]",
            "text/plain": [
              "<matplotlib.figure.Figure at 0x7f1efa869cf8>"
            ]
          },
          "metadata": {
            "tags": []
          }
        }
      ]
    },
    {
      "metadata": {
        "id": "PCjk71kwTteE",
        "colab_type": "code",
        "colab": {}
      },
      "cell_type": "code",
      "source": [
        "def feature_mapping(x1, x2, power):\n",
        "    data = {}\n",
        "    for i in np.arange(power + 1):\n",
        "        for p in np.arange(i + 1):\n",
        "            data[\"f{}{}\".format(i - p, p)] = np.power(x1, i - p) * np.power(x2, p)\n",
        "\n",
        "#     data = {\"f{}{}\".format(i - p, p): np.power(x1, i - p) * np.power(x2, p)\n",
        "#                 for i in np.arange(power + 1)\n",
        "#                 for p in np.arange(i + 1)\n",
        "#             }\n",
        "    return pd.DataFrame(data)"
      ],
      "execution_count": 0,
      "outputs": []
    },
    {
      "metadata": {
        "id": "NuMvWHygUnrP",
        "colab_type": "code",
        "colab": {}
      },
      "cell_type": "code",
      "source": [
        "x1 = data2['Test 1'].as_matrix()\n",
        "x2 = data2['Test 2'].as_matrix()"
      ],
      "execution_count": 0,
      "outputs": []
    },
    {
      "metadata": {
        "id": "3_oVu1f_VEpX",
        "colab_type": "code",
        "outputId": "32a8d61f-a11c-43f0-fee9-23d5bbe90a20",
        "colab": {
          "base_uri": "https://localhost:8080/",
          "height": 296
        }
      },
      "cell_type": "code",
      "source": [
        "_data2 = feature_mapping(x1, x2, power=6)\n",
        "_data2.head()"
      ],
      "execution_count": 0,
      "outputs": [
        {
          "output_type": "execute_result",
          "data": {
            "text/html": [
              "<div>\n",
              "<style scoped>\n",
              "    .dataframe tbody tr th:only-of-type {\n",
              "        vertical-align: middle;\n",
              "    }\n",
              "\n",
              "    .dataframe tbody tr th {\n",
              "        vertical-align: top;\n",
              "    }\n",
              "\n",
              "    .dataframe thead th {\n",
              "        text-align: right;\n",
              "    }\n",
              "</style>\n",
              "<table border=\"1\" class=\"dataframe\">\n",
              "  <thead>\n",
              "    <tr style=\"text-align: right;\">\n",
              "      <th></th>\n",
              "      <th>f00</th>\n",
              "      <th>f01</th>\n",
              "      <th>f02</th>\n",
              "      <th>f03</th>\n",
              "      <th>f04</th>\n",
              "      <th>f05</th>\n",
              "      <th>f06</th>\n",
              "      <th>f10</th>\n",
              "      <th>f11</th>\n",
              "      <th>f12</th>\n",
              "      <th>...</th>\n",
              "      <th>f30</th>\n",
              "      <th>f31</th>\n",
              "      <th>f32</th>\n",
              "      <th>f33</th>\n",
              "      <th>f40</th>\n",
              "      <th>f41</th>\n",
              "      <th>f42</th>\n",
              "      <th>f50</th>\n",
              "      <th>f51</th>\n",
              "      <th>f60</th>\n",
              "    </tr>\n",
              "  </thead>\n",
              "  <tbody>\n",
              "    <tr>\n",
              "      <th>0</th>\n",
              "      <td>1.0</td>\n",
              "      <td>0.69956</td>\n",
              "      <td>0.489384</td>\n",
              "      <td>0.342354</td>\n",
              "      <td>0.239497</td>\n",
              "      <td>0.167542</td>\n",
              "      <td>0.117206</td>\n",
              "      <td>0.051267</td>\n",
              "      <td>0.035864</td>\n",
              "      <td>0.025089</td>\n",
              "      <td>...</td>\n",
              "      <td>0.000135</td>\n",
              "      <td>0.000094</td>\n",
              "      <td>0.000066</td>\n",
              "      <td>0.000046</td>\n",
              "      <td>0.000007</td>\n",
              "      <td>0.000005</td>\n",
              "      <td>0.000003</td>\n",
              "      <td>3.541519e-07</td>\n",
              "      <td>2.477505e-07</td>\n",
              "      <td>1.815630e-08</td>\n",
              "    </tr>\n",
              "    <tr>\n",
              "      <th>1</th>\n",
              "      <td>1.0</td>\n",
              "      <td>0.68494</td>\n",
              "      <td>0.469143</td>\n",
              "      <td>0.321335</td>\n",
              "      <td>0.220095</td>\n",
              "      <td>0.150752</td>\n",
              "      <td>0.103256</td>\n",
              "      <td>-0.092742</td>\n",
              "      <td>-0.063523</td>\n",
              "      <td>-0.043509</td>\n",
              "      <td>...</td>\n",
              "      <td>-0.000798</td>\n",
              "      <td>-0.000546</td>\n",
              "      <td>-0.000374</td>\n",
              "      <td>-0.000256</td>\n",
              "      <td>0.000074</td>\n",
              "      <td>0.000051</td>\n",
              "      <td>0.000035</td>\n",
              "      <td>-6.860919e-06</td>\n",
              "      <td>-4.699318e-06</td>\n",
              "      <td>6.362953e-07</td>\n",
              "    </tr>\n",
              "    <tr>\n",
              "      <th>2</th>\n",
              "      <td>1.0</td>\n",
              "      <td>0.69225</td>\n",
              "      <td>0.479210</td>\n",
              "      <td>0.331733</td>\n",
              "      <td>0.229642</td>\n",
              "      <td>0.158970</td>\n",
              "      <td>0.110047</td>\n",
              "      <td>-0.213710</td>\n",
              "      <td>-0.147941</td>\n",
              "      <td>-0.102412</td>\n",
              "      <td>...</td>\n",
              "      <td>-0.009761</td>\n",
              "      <td>-0.006757</td>\n",
              "      <td>-0.004677</td>\n",
              "      <td>-0.003238</td>\n",
              "      <td>0.002086</td>\n",
              "      <td>0.001444</td>\n",
              "      <td>0.001000</td>\n",
              "      <td>-4.457837e-04</td>\n",
              "      <td>-3.085938e-04</td>\n",
              "      <td>9.526844e-05</td>\n",
              "    </tr>\n",
              "    <tr>\n",
              "      <th>3</th>\n",
              "      <td>1.0</td>\n",
              "      <td>0.50219</td>\n",
              "      <td>0.252195</td>\n",
              "      <td>0.126650</td>\n",
              "      <td>0.063602</td>\n",
              "      <td>0.031940</td>\n",
              "      <td>0.016040</td>\n",
              "      <td>-0.375000</td>\n",
              "      <td>-0.188321</td>\n",
              "      <td>-0.094573</td>\n",
              "      <td>...</td>\n",
              "      <td>-0.052734</td>\n",
              "      <td>-0.026483</td>\n",
              "      <td>-0.013299</td>\n",
              "      <td>-0.006679</td>\n",
              "      <td>0.019775</td>\n",
              "      <td>0.009931</td>\n",
              "      <td>0.004987</td>\n",
              "      <td>-7.415771e-03</td>\n",
              "      <td>-3.724126e-03</td>\n",
              "      <td>2.780914e-03</td>\n",
              "    </tr>\n",
              "    <tr>\n",
              "      <th>4</th>\n",
              "      <td>1.0</td>\n",
              "      <td>0.46564</td>\n",
              "      <td>0.216821</td>\n",
              "      <td>0.100960</td>\n",
              "      <td>0.047011</td>\n",
              "      <td>0.021890</td>\n",
              "      <td>0.010193</td>\n",
              "      <td>-0.513250</td>\n",
              "      <td>-0.238990</td>\n",
              "      <td>-0.111283</td>\n",
              "      <td>...</td>\n",
              "      <td>-0.135203</td>\n",
              "      <td>-0.062956</td>\n",
              "      <td>-0.029315</td>\n",
              "      <td>-0.013650</td>\n",
              "      <td>0.069393</td>\n",
              "      <td>0.032312</td>\n",
              "      <td>0.015046</td>\n",
              "      <td>-3.561597e-02</td>\n",
              "      <td>-1.658422e-02</td>\n",
              "      <td>1.827990e-02</td>\n",
              "    </tr>\n",
              "  </tbody>\n",
              "</table>\n",
              "<p>5 rows × 28 columns</p>\n",
              "</div>"
            ],
            "text/plain": [
              "   f00      f01       f02       f03       f04       f05       f06       f10  \\\n",
              "0  1.0  0.69956  0.489384  0.342354  0.239497  0.167542  0.117206  0.051267   \n",
              "1  1.0  0.68494  0.469143  0.321335  0.220095  0.150752  0.103256 -0.092742   \n",
              "2  1.0  0.69225  0.479210  0.331733  0.229642  0.158970  0.110047 -0.213710   \n",
              "3  1.0  0.50219  0.252195  0.126650  0.063602  0.031940  0.016040 -0.375000   \n",
              "4  1.0  0.46564  0.216821  0.100960  0.047011  0.021890  0.010193 -0.513250   \n",
              "\n",
              "        f11       f12      ...            f30       f31       f32       f33  \\\n",
              "0  0.035864  0.025089      ...       0.000135  0.000094  0.000066  0.000046   \n",
              "1 -0.063523 -0.043509      ...      -0.000798 -0.000546 -0.000374 -0.000256   \n",
              "2 -0.147941 -0.102412      ...      -0.009761 -0.006757 -0.004677 -0.003238   \n",
              "3 -0.188321 -0.094573      ...      -0.052734 -0.026483 -0.013299 -0.006679   \n",
              "4 -0.238990 -0.111283      ...      -0.135203 -0.062956 -0.029315 -0.013650   \n",
              "\n",
              "        f40       f41       f42           f50           f51           f60  \n",
              "0  0.000007  0.000005  0.000003  3.541519e-07  2.477505e-07  1.815630e-08  \n",
              "1  0.000074  0.000051  0.000035 -6.860919e-06 -4.699318e-06  6.362953e-07  \n",
              "2  0.002086  0.001444  0.001000 -4.457837e-04 -3.085938e-04  9.526844e-05  \n",
              "3  0.019775  0.009931  0.004987 -7.415771e-03 -3.724126e-03  2.780914e-03  \n",
              "4  0.069393  0.032312  0.015046 -3.561597e-02 -1.658422e-02  1.827990e-02  \n",
              "\n",
              "[5 rows x 28 columns]"
            ]
          },
          "metadata": {
            "tags": []
          },
          "execution_count": 65
        }
      ]
    },
    {
      "metadata": {
        "id": "i05V8Y-4VF_C",
        "colab_type": "code",
        "outputId": "e27a1b88-a1f9-4716-9db8-200db31ab07e",
        "colab": {
          "base_uri": "https://localhost:8080/",
          "height": 35
        }
      },
      "cell_type": "code",
      "source": [
        "# 这里因为做特征映射的时候已经添加了偏置项，所以不用手动添加了。\n",
        "X = _data2.as_matrix()  \n",
        "y = data2['Accepted'].as_matrix()\n",
        "theta = np.zeros(X.shape[1])\n",
        "X.shape, y.shape, theta.shape  # ((118, 28), (118,), (28,))\n"
      ],
      "execution_count": 0,
      "outputs": [
        {
          "output_type": "execute_result",
          "data": {
            "text/plain": [
              "((118, 28), (118,), (28,))"
            ]
          },
          "metadata": {
            "tags": []
          },
          "execution_count": 66
        }
      ]
    },
    {
      "metadata": {
        "id": "oSs2WcInVYVT",
        "colab_type": "code",
        "colab": {}
      },
      "cell_type": "code",
      "source": [
        "def costReg(theta, X, y, l=1):\n",
        "    # 不惩罚第一项\n",
        "    _theta = theta[1: ]\n",
        "    reg = (l / (2 * len(X))) *(_theta @ _theta)  # _theta@_theta == inner product\n",
        "    \n",
        "    return cost(theta, X, y) + reg\n"
      ],
      "execution_count": 0,
      "outputs": []
    },
    {
      "metadata": {
        "id": "SCZIr8UDVjiC",
        "colab_type": "code",
        "outputId": "988feff4-468e-402c-863d-8f348c1e72cf",
        "colab": {
          "base_uri": "https://localhost:8080/",
          "height": 35
        }
      },
      "cell_type": "code",
      "source": [
        "costReg(theta, X, y, l=1)  #     0.6931471805599454"
      ],
      "execution_count": 0,
      "outputs": [
        {
          "output_type": "execute_result",
          "data": {
            "text/plain": [
              "0.6931471805599454"
            ]
          },
          "metadata": {
            "tags": []
          },
          "execution_count": 68
        }
      ]
    },
    {
      "metadata": {
        "id": "OdMzj8utWCNF",
        "colab_type": "code",
        "colab": {}
      },
      "cell_type": "code",
      "source": [
        "def gradientReg(theta, X, y, l=1):\n",
        "    reg = (1 / len(X)) * theta\n",
        "    reg[0] = 0  \n",
        "    return gradient(theta, X, y) + reg"
      ],
      "execution_count": 0,
      "outputs": []
    },
    {
      "metadata": {
        "id": "VXUalTsjWCQ7",
        "colab_type": "code",
        "outputId": "a6d45c1d-b818-4871-fd1a-a3bd5955b695",
        "colab": {
          "base_uri": "https://localhost:8080/",
          "height": 138
        }
      },
      "cell_type": "code",
      "source": [
        "gradientReg(theta, X, y, 1)"
      ],
      "execution_count": 0,
      "outputs": [
        {
          "output_type": "execute_result",
          "data": {
            "text/plain": [
              "array([8.47457627e-03, 7.77711864e-05, 3.76648474e-02, 2.34764889e-02,\n",
              "       3.93028171e-02, 3.10079849e-02, 3.87936363e-02, 1.87880932e-02,\n",
              "       1.15013308e-02, 8.19244468e-03, 3.09593720e-03, 4.47629067e-03,\n",
              "       1.37646175e-03, 5.03446395e-02, 7.32393391e-03, 1.28600503e-02,\n",
              "       5.83822078e-03, 7.26504316e-03, 1.83559872e-02, 2.23923907e-03,\n",
              "       3.38643902e-03, 4.08503006e-04, 3.93486234e-02, 4.32983232e-03,\n",
              "       6.31570797e-03, 1.99707467e-02, 1.09740238e-03, 3.10312442e-02])"
            ]
          },
          "metadata": {
            "tags": []
          },
          "execution_count": 70
        }
      ]
    },
    {
      "metadata": {
        "id": "f5ytyqATWCTx",
        "colab_type": "code",
        "outputId": "cecc9c71-52d7-4efd-f5fe-03397be83dd5",
        "colab": {
          "base_uri": "https://localhost:8080/",
          "height": 121
        }
      },
      "cell_type": "code",
      "source": [
        "result2 = opt.fmin_tnc(func=costReg, x0=theta, fprime=gradientReg, args=(X, y, 2))\n",
        "result2"
      ],
      "execution_count": 0,
      "outputs": [
        {
          "output_type": "execute_result",
          "data": {
            "text/plain": [
              "(array([ 1.02253248,  1.13465456, -1.01863181, -0.08324364, -0.94198718,\n",
              "        -0.37205336, -0.75992548,  0.56283944, -0.66539168, -0.30102279,\n",
              "        -0.17881797, -0.21349659, -0.07321593, -1.78529748, -0.29358911,\n",
              "        -0.53996494, -0.22918936, -0.28315229,  0.13957059, -0.06137378,\n",
              "        -0.07697368, -0.0036225 , -1.27205982, -0.17736656, -0.26795949,\n",
              "        -0.14054843,  0.00890082, -0.86417647]), 57, 1)"
            ]
          },
          "metadata": {
            "tags": []
          },
          "execution_count": 71
        }
      ]
    },
    {
      "metadata": {
        "id": "eqpMUHNkWCW4",
        "colab_type": "code",
        "outputId": "51c59b15-9e8f-4e5d-a93d-3c9da0aa9231",
        "colab": {
          "base_uri": "https://localhost:8080/",
          "height": 86
        }
      },
      "cell_type": "code",
      "source": [
        "from sklearn import linear_model#调用sklearn的线性回归包\n",
        "model = linear_model.LogisticRegression(penalty='l2', C=1.0)\n",
        "model.fit(X, y.ravel())"
      ],
      "execution_count": 0,
      "outputs": [
        {
          "output_type": "execute_result",
          "data": {
            "text/plain": [
              "LogisticRegression(C=1.0, class_weight=None, dual=False, fit_intercept=True,\n",
              "          intercept_scaling=1, max_iter=100, multi_class='ovr', n_jobs=1,\n",
              "          penalty='l2', random_state=None, solver='liblinear', tol=0.0001,\n",
              "          verbose=0, warm_start=False)"
            ]
          },
          "metadata": {
            "tags": []
          },
          "execution_count": 72
        }
      ]
    },
    {
      "metadata": {
        "id": "djiac22hWCZ_",
        "colab_type": "code",
        "outputId": "eacd65a2-35d6-41f9-8f8c-86e1e8608a8d",
        "colab": {
          "base_uri": "https://localhost:8080/",
          "height": 35
        }
      },
      "cell_type": "code",
      "source": [
        "model.score(X, y)  "
      ],
      "execution_count": 0,
      "outputs": [
        {
          "output_type": "execute_result",
          "data": {
            "text/plain": [
              "0.8305084745762712"
            ]
          },
          "metadata": {
            "tags": []
          },
          "execution_count": 73
        }
      ]
    },
    {
      "metadata": {
        "id": "EeywauucWCdB",
        "colab_type": "code",
        "outputId": "da9fe1ca-08b8-406b-bd82-9a96d1e0e02b",
        "colab": {
          "base_uri": "https://localhost:8080/",
          "height": 35
        }
      },
      "cell_type": "code",
      "source": [
        "final_theta = result2[0]\n",
        "predictions = predict(final_theta, X)\n",
        "correct = [1 if a==b else 0 for (a, b) in zip(predictions, y)]\n",
        "accuracy = sum(correct) / len(correct)\n",
        "accuracy"
      ],
      "execution_count": 0,
      "outputs": [
        {
          "output_type": "execute_result",
          "data": {
            "text/plain": [
              "0.8050847457627118"
            ]
          },
          "metadata": {
            "tags": []
          },
          "execution_count": 74
        }
      ]
    },
    {
      "metadata": {
        "id": "d5eyWRL0WCiS",
        "colab_type": "code",
        "outputId": "02bbb4bf-8ffa-47d1-e5e5-a0dee16ff48e",
        "colab": {
          "base_uri": "https://localhost:8080/",
          "height": 138
        }
      },
      "cell_type": "code",
      "source": [
        "print(classification_report(y, predictions))"
      ],
      "execution_count": 0,
      "outputs": [
        {
          "output_type": "stream",
          "text": [
            "             precision    recall  f1-score   support\n",
            "\n",
            "          0       0.85      0.75      0.80        60\n",
            "          1       0.77      0.86      0.81        58\n",
            "\n",
            "avg / total       0.81      0.81      0.80       118\n",
            "\n"
          ],
          "name": "stdout"
        }
      ]
    },
    {
      "metadata": {
        "id": "W56Vf8e2WClQ",
        "colab_type": "code",
        "outputId": "691d6712-ddda-42a1-8937-e63e1354c2a4",
        "colab": {
          "base_uri": "https://localhost:8080/",
          "height": 352
        }
      },
      "cell_type": "code",
      "source": [
        "x = np.linspace(-1, 1.5, 250)\n",
        "xx, yy = np.meshgrid(x, x)\n",
        "\n",
        "z = feature_mapping(xx.ravel(), yy.ravel(), 6).as_matrix()\n",
        "z = z @ final_theta\n",
        "z = z.reshape(xx.shape)\n",
        "\n",
        "plot_data()\n",
        "plt.contour(xx, yy, z, 0)\n",
        "plt.ylim(-.8, 1.2)\n"
      ],
      "execution_count": 0,
      "outputs": [
        {
          "output_type": "execute_result",
          "data": {
            "text/plain": [
              "(-0.8, 1.2)"
            ]
          },
          "metadata": {
            "tags": []
          },
          "execution_count": 76
        },
        {
          "output_type": "display_data",
          "data": {
            "image/png": "[encoded data removed]",
            "text/plain": [
              "<matplotlib.figure.Figure at 0x7f1efa84db38>"
            ]
          },
          "metadata": {
            "tags": []
          }
        }
      ]
    },
    {
      "metadata": {
        "id": "DwiH6g8BWCft",
        "colab_type": "code",
        "colab": {}
      },
      "cell_type": "code",
      "source": [
        ""
      ],
      "execution_count": 0,
      "outputs": []
    }
  ]
}