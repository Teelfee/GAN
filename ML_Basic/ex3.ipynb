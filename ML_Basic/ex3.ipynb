{
  "nbformat": 4,
  "nbformat_minor": 0,
  "metadata": {
    "colab": {
      "name": "ex3.ipynb",
      "version": "0.3.2",
      "provenance": [],
      "collapsed_sections": [],
      "include_colab_link": true
    },
    "kernelspec": {
      "name": "python3",
      "display_name": "Python 3"
    },
    "accelerator": "GPU"
  },
  "cells": [
    {
      "cell_type": "markdown",
      "metadata": {
        "id": "view-in-github",
        "colab_type": "text"
      },
      "source": [
        "<a href=\"https://colab.research.google.com/github/Teelfee/GT-and-ML-exploration/blob/development/ML_Basic/ex3.ipynb\" target=\"_parent\"><img src=\"https://colab.research.google.com/assets/colab-badge.svg\" alt=\"Open In Colab\"/></a>"
      ]
    },
    {
      "metadata": {
        "id": "y20mcSv13V4E",
        "colab_type": "code",
        "colab": {}
      },
      "cell_type": "code",
      "source": [
        "import numpy as np\n",
        "import pandas as pd\n",
        "import matplotlib.pyplot as plt\n",
        "from scipy.io import loadmat\n"
      ],
      "execution_count": 0,
      "outputs": []
    },
    {
      "metadata": {
        "id": "n_jrM7p9UvJt",
        "colab_type": "text"
      },
      "cell_type": "markdown",
      "source": [
        "首先，加载数据集。这里的数据为MATLAB的格式，所以要使用SciPy.io的loadmat函数。"
      ]
    },
    {
      "metadata": {
        "id": "w5C2QbocUZKI",
        "colab_type": "code",
        "colab": {}
      },
      "cell_type": "code",
      "source": [
        "def load_data(path):\n",
        "    data = loadmat(path)\n",
        "    X = data['X']\n",
        "    y = data['y']\n",
        "    return X,y\n"
      ],
      "execution_count": 0,
      "outputs": []
    },
    {
      "metadata": {
        "id": "4wqJ1RhNUePA",
        "colab_type": "code",
        "colab": {
          "base_uri": "https://localhost:8080/",
          "height": 50
        },
        "outputId": "180e5e4e-4ee4-4f95-9f8d-35c49399a9cb"
      },
      "cell_type": "code",
      "source": [
        "X, y = load_data('ex3data1.mat')\n",
        "print(np.unique(y))  # 看下有几类标签\n",
        "# [ 1  2  3  4  5  6  7  8  9 10]\n",
        "X.shape, y.shape\n",
        "# ((5000, 400), (5000, 1))\n"
      ],
      "execution_count": 10,
      "outputs": [
        {
          "output_type": "stream",
          "text": [
            "[ 1  2  3  4  5  6  7  8  9 10]\n"
          ],
          "name": "stdout"
        },
        {
          "output_type": "execute_result",
          "data": {
            "text/plain": [
              "((5000, 400), (5000, 1))"
            ]
          },
          "metadata": {
            "tags": []
          },
          "execution_count": 10
        }
      ]
    },
    {
      "metadata": {
        "id": "jNMclVLUVFYl",
        "colab_type": "text"
      },
      "cell_type": "markdown",
      "source": [
        "![](https://upload-images.jianshu.io/upload_images/11023262-604bde982f259637.png?imageMogr2/auto-orient/strip%7CimageView2/2/w/1240)"
      ]
    },
    {
      "metadata": {
        "id": "I6vkrtVoVLwp",
        "colab_type": "code",
        "colab": {}
      },
      "cell_type": "code",
      "source": [
        "def plot_an_image(X):\n",
        "    \"\"\"\n",
        "    随机打印一个数字\n",
        "    \"\"\"\n",
        "    pick_one = np.random.randint(0, 5000)\n",
        "    image = X[pick_one, :]\n",
        "    fig, ax = plt.subplots(figsize=(1, 1))\n",
        "    ax.matshow(image.reshape((20, 20)), cmap='gray_r')\n",
        "    plt.xticks([])  # 去除刻度，美观\n",
        "    plt.yticks([])\n",
        "    plt.show()\n",
        "    print('this should be {}'.format(y[pick_one]))\n"
      ],
      "execution_count": 0,
      "outputs": []
    },
    {
      "metadata": {
        "id": "4qZ-GoyhV40g",
        "colab_type": "code",
        "colab": {
          "base_uri": "https://localhost:8080/",
          "height": 101
        },
        "outputId": "67daf70d-10fe-4654-8996-c22025e867a2"
      },
      "cell_type": "code",
      "source": [
        "plot_an_image(X)"
      ],
      "execution_count": 16,
      "outputs": [
        {
          "output_type": "display_data",
          "data": {
            "image/png": "[encoded data removed]",
            "text/plain": [
              "<matplotlib.figure.Figure at 0x7f1b65ea6978>"
            ]
          },
          "metadata": {
            "tags": []
          }
        },
        {
          "output_type": "stream",
          "text": [
            "this should be [2]\n"
          ],
          "name": "stdout"
        }
      ]
    },
    {
      "metadata": {
        "id": "O04Uqo-rWPWE",
        "colab_type": "code",
        "colab": {}
      },
      "cell_type": "code",
      "source": [
        "def sigmoid(z):\n",
        "    return 1 / (1 + np.exp(-z))\n"
      ],
      "execution_count": 0,
      "outputs": []
    },
    {
      "metadata": {
        "id": "YezMl_N1Xjd-",
        "colab_type": "code",
        "colab": {}
      },
      "cell_type": "code",
      "source": [
        "def regularized_cost(theta, X, y, l):\n",
        "    \"\"\"\n",
        "    don't penalize theta_0\n",
        "    args:\n",
        "        X: feature matrix, (m, n+1) # 插入了x0=1\n",
        "        y: target vector, (m, )\n",
        "        l: lambda constant for regularization\n",
        "    \"\"\"\n",
        "    thetaReg = theta[1:]xx\n",
        "    first = (-y*np.log(sigmoid(X@theta))) + (y-1)*np.log(1-sigmoid(X@theta))\n",
        "    reg = (thetaReg@thetaReg)*l / (2*len(X))\n",
        "    return np.mean(first) + reg\n"
      ],
      "execution_count": 0,
      "outputs": []
    },
    {
      "metadata": {
        "id": "vqGSihJrXoQV",
        "colab_type": "code",
        "colab": {}
      },
      "cell_type": "code",
      "source": [
        "def regularized_gradient(theta, X, y, l):\n",
        "    \"\"\"\n",
        "    don't penalize theta_0\n",
        "    args:\n",
        "        l: lambda constant\n",
        "    return:\n",
        "        a vector of gradient\n",
        "    \"\"\"\n",
        "    thetaReg = theta[1:]\n",
        "    first = (1 / len(X)) * X.T @ (sigmoid(X @ theta) - y)\n",
        "    # 这里人为插入一维0，使得对theta_0不惩罚，方便计算\n",
        "    reg = np.concatenate([np.array([0]), (l / len(X)) * thetaReg])\n",
        "    return first + reg\n"
      ],
      "execution_count": 0,
      "outputs": []
    },
    {
      "metadata": {
        "id": "jm2PBcuVkqzi",
        "colab_type": "code",
        "colab": {}
      },
      "cell_type": "code",
      "source": [
        "from scipy.optimize import minimize\n",
        "\n",
        "def one_vs_all(X, y, l, K):\n",
        "    \"\"\"generalized logistic regression\n",
        "    args:\n",
        "        X: feature matrix, (m, n+1) # with incercept x0=1\n",
        "        y: target vector, (m, )\n",
        "        l: lambda constant for regularization\n",
        "        K: numbel of labels\n",
        "    return: trained parameters\n",
        "    \"\"\"\n",
        "    all_theta = np.zeros((K, X.shape[1]))  # (10, 401)\n",
        "    \n",
        "    for i in range(1, K+1):\n",
        "        theta = np.zeros(X.shape[1])\n",
        "        y_i = np.array([1 if label == i else 0 for label in y])\n",
        "    \n",
        "        ret = minimize(fun=regularized_cost, x0=theta, args=(X, y_i, l), method='TNC',\n",
        "                        jac=regularized_gradient, options={'disp': True})\n",
        "        all_theta[i-1,:] = ret.x\n",
        "                         \n",
        "    return all_theta\n"
      ],
      "execution_count": 0,
      "outputs": []
    },
    {
      "metadata": {
        "id": "8PO5u70ckvpD",
        "colab_type": "code",
        "colab": {}
      },
      "cell_type": "code",
      "source": [
        "def predict_all(X, all_theta):\n",
        "    # compute the class probability for each class on each training instance   \n",
        "    h = sigmoid(X @ all_theta.T)  # 注意的这里的all_theta需要转置\n",
        "    # create array of the index with the maximum probability\n",
        "    # Returns the indices of the maximum values along an axis.\n",
        "    h_argmax = np.argmax(h, axis=1)\n",
        "    # because our array was zero-indexed we need to add one for the true label prediction\n",
        "    h_argmax = h_argmax + 1\n",
        "    \n",
        "    return h_argmax\n"
      ],
      "execution_count": 0,
      "outputs": []
    },
    {
      "metadata": {
        "id": "Ju5xlGGbnzdr",
        "colab_type": "code",
        "colab": {
          "base_uri": "https://localhost:8080/",
          "height": 233
        },
        "outputId": "aeac352a-7cd4-4504-8473-22cf489723c8"
      },
      "cell_type": "code",
      "source": [
        "raw_X, raw_y = load_data('ex3data1.mat')\n",
        "X = np.insert(raw_X, 0, 1, axis=1) # (5000, 401)\n",
        "y = raw_y.flatten()  # 这里消除了一个维度，方便后面的计算 or .reshape(-1) （5000，）\n",
        "\n",
        "all_theta = one_vs_all(X, y, 1, 10)\n",
        "all_theta  # 每一行是一个分类器的一组参数\n"
      ],
      "execution_count": 23,
      "outputs": [
        {
          "output_type": "execute_result",
          "data": {
            "text/plain": [
              "array([[-2.38138988e+00,  0.00000000e+00,  0.00000000e+00, ...,\n",
              "         1.30432237e-03, -7.27456796e-10,  0.00000000e+00],\n",
              "       [-3.18265577e+00,  0.00000000e+00,  0.00000000e+00, ...,\n",
              "         4.45961765e-03, -5.08443072e-04,  0.00000000e+00],\n",
              "       [-4.79794811e+00,  0.00000000e+00,  0.00000000e+00, ...,\n",
              "        -2.87427628e-05, -2.47807166e-07,  0.00000000e+00],\n",
              "       ...,\n",
              "       [-7.98524534e+00,  0.00000000e+00,  0.00000000e+00, ...,\n",
              "        -8.95414775e-05,  7.22697404e-06,  0.00000000e+00],\n",
              "       [-4.57165011e+00,  0.00000000e+00,  0.00000000e+00, ...,\n",
              "        -1.33440138e-03,  9.98358371e-05,  0.00000000e+00],\n",
              "       [-5.40445768e+00,  0.00000000e+00,  0.00000000e+00, ...,\n",
              "        -1.16516725e-04,  7.87635580e-06,  0.00000000e+00]])"
            ]
          },
          "metadata": {
            "tags": []
          },
          "execution_count": 23
        }
      ]
    },
    {
      "metadata": {
        "id": "c9KT_Ukvn2ZD",
        "colab_type": "code",
        "colab": {
          "base_uri": "https://localhost:8080/",
          "height": 33
        },
        "outputId": "6af0fecd-7bad-41f9-ddff-fcd9ce0489e8"
      },
      "cell_type": "code",
      "source": [
        "y_pred = predict_all(X, all_theta)\n",
        "accuracy = np.mean(y_pred == y)\n",
        "print ('accuracy = {0}%'.format(accuracy * 100))\n"
      ],
      "execution_count": 24,
      "outputs": [
        {
          "output_type": "stream",
          "text": [
            "accuracy = 94.46%\n"
          ],
          "name": "stdout"
        }
      ]
    },
    {
      "metadata": {
        "id": "XpuVhRKDn6C_",
        "colab_type": "code",
        "colab": {
          "base_uri": "https://localhost:8080/",
          "height": 33
        },
        "outputId": "7ecbaeae-180e-4719-9270-a7ff8732dc98"
      },
      "cell_type": "code",
      "source": [
        "def load_weight(path):\n",
        "    data = loadmat(path)\n",
        "    return data['Theta1'], data['Theta2']\n",
        "\n",
        "\n",
        "theta1, theta2 = load_weight('ex3weights.mat')\n",
        "\n",
        "theta1.shape, theta2.shape\n"
      ],
      "execution_count": 27,
      "outputs": [
        {
          "output_type": "execute_result",
          "data": {
            "text/plain": [
              "((25, 401), (10, 26))"
            ]
          },
          "metadata": {
            "tags": []
          },
          "execution_count": 27
        }
      ]
    },
    {
      "metadata": {
        "id": "P22NJg1drtVz",
        "colab_type": "code",
        "colab": {
          "base_uri": "https://localhost:8080/",
          "height": 33
        },
        "outputId": "12a3a934-baed-44e4-a37f-e7feff092a80"
      },
      "cell_type": "code",
      "source": [
        "X, y = load_data('ex3data1.mat')\n",
        "y = y.flatten()\n",
        "X = np.insert(X, 0, values=np.ones(X.shape[0]), axis=1)  # intercept\n",
        "\n",
        "X.shape, y.shape\n"
      ],
      "execution_count": 29,
      "outputs": [
        {
          "output_type": "execute_result",
          "data": {
            "text/plain": [
              "((5000, 401), (5000,))"
            ]
          },
          "metadata": {
            "tags": []
          },
          "execution_count": 29
        }
      ]
    },
    {
      "metadata": {
        "id": "gFNmKEcJru0A",
        "colab_type": "code",
        "colab": {
          "base_uri": "https://localhost:8080/",
          "height": 33
        },
        "outputId": "6db30bfc-f051-4109-a85f-1c59fb4be5ab"
      },
      "cell_type": "code",
      "source": [
        "a1 = X\n",
        "z2 = a1 @ theta1.T\n",
        "z2.shape\n"
      ],
      "execution_count": 30,
      "outputs": [
        {
          "output_type": "execute_result",
          "data": {
            "text/plain": [
              "(5000, 25)"
            ]
          },
          "metadata": {
            "tags": []
          },
          "execution_count": 30
        }
      ]
    },
    {
      "metadata": {
        "id": "Dqy3PY_3r91n",
        "colab_type": "code",
        "colab": {}
      },
      "cell_type": "code",
      "source": [
        "z2 = np.insert(z2, 0, 1, axis=1)\n"
      ],
      "execution_count": 0,
      "outputs": []
    },
    {
      "metadata": {
        "id": "366g1jDwsBOK",
        "colab_type": "code",
        "colab": {
          "base_uri": "https://localhost:8080/",
          "height": 33
        },
        "outputId": "553d9e3d-f6cb-4e36-c0dd-2e19ee4dbab4"
      },
      "cell_type": "code",
      "source": [
        "a2 = sigmoid(z2)\n",
        "a2.shape\n"
      ],
      "execution_count": 32,
      "outputs": [
        {
          "output_type": "execute_result",
          "data": {
            "text/plain": [
              "(5000, 26)"
            ]
          },
          "metadata": {
            "tags": []
          },
          "execution_count": 32
        }
      ]
    },
    {
      "metadata": {
        "id": "gNYMeUKmsC2v",
        "colab_type": "code",
        "colab": {
          "base_uri": "https://localhost:8080/",
          "height": 33
        },
        "outputId": "544350fc-6bff-4add-da49-2865a1b27152"
      },
      "cell_type": "code",
      "source": [
        "z3 = a2 @ theta2.T\n",
        "z3.shape\n"
      ],
      "execution_count": 33,
      "outputs": [
        {
          "output_type": "execute_result",
          "data": {
            "text/plain": [
              "(5000, 10)"
            ]
          },
          "metadata": {
            "tags": []
          },
          "execution_count": 33
        }
      ]
    },
    {
      "metadata": {
        "id": "H4ieZ2jRsEhd",
        "colab_type": "code",
        "colab": {
          "base_uri": "https://localhost:8080/",
          "height": 33
        },
        "outputId": "41f27ec4-9407-4d10-a400-ec9a215ad5d8"
      },
      "cell_type": "code",
      "source": [
        "a3 = sigmoid(z3)\n",
        "a3.shape\n"
      ],
      "execution_count": 34,
      "outputs": [
        {
          "output_type": "execute_result",
          "data": {
            "text/plain": [
              "(5000, 10)"
            ]
          },
          "metadata": {
            "tags": []
          },
          "execution_count": 34
        }
      ]
    },
    {
      "metadata": {
        "id": "RV1XWFRisHwG",
        "colab_type": "code",
        "colab": {
          "base_uri": "https://localhost:8080/",
          "height": 33
        },
        "outputId": "c611b88e-2617-4dd8-9af9-39b9189dc628"
      },
      "cell_type": "code",
      "source": [
        "y_pred = np.argmax(a3, axis=1) + 1 \n",
        "accuracy = np.mean(y_pred == y)\n",
        "print ('accuracy = {0}%'.format(accuracy * 100))  # accuracy = 97.52%\n"
      ],
      "execution_count": 35,
      "outputs": [
        {
          "output_type": "stream",
          "text": [
            "accuracy = 97.52%\n"
          ],
          "name": "stdout"
        }
      ]
    },
    {
      "metadata": {
        "id": "Pkr_g3hzsKYh",
        "colab_type": "code",
        "colab": {}
      },
      "cell_type": "code",
      "source": [
        "  "
      ],
      "execution_count": 0,
      "outputs": []
    }
  ]
}